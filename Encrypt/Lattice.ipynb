{
 "cells": [
  {
   "cell_type": "code",
   "execution_count": 7,
   "metadata": {},
   "outputs": [],
   "source": [
    "import numpy as np"
   ]
  },
  {
   "cell_type": "code",
   "execution_count": 32,
   "metadata": {},
   "outputs": [
    {
     "name": "stdout",
     "output_type": "stream",
     "text": [
      "[[166, -751, 61, -467, 34], [420, -124, 62, 112, -839], [-304, 137, 488, 94, 516], [-30, 404, -492, 269, 399], [-402, 148, 426, -575, -670]]\n",
      "time = 0.0 [s]\n"
     ]
    }
   ],
   "source": [
    "import random\n",
    "import time\n",
    "\n",
    "# <vs, ws>\n",
    "def inner_product(vs, ws):\n",
    "    res = 0\n",
    "    for i in range(len(vs)):\n",
    "        res += vs[i] * ws[i]\n",
    "    return res\n",
    "\n",
    "# vs - ws\n",
    "def vecminus(vs, ws):\n",
    "    res = []\n",
    "    for i in range(len(vs)):\n",
    "        res.append(vs[i] - ws[i])\n",
    "    return res\n",
    "\n",
    "# a * vs\n",
    "def scalarMul(vs, a):\n",
    "    res = []\n",
    "    for i in range(len(vs)):\n",
    "        res.append(vs[i] * a)\n",
    "    return res\n",
    "\n",
    "# vs -> vs*\n",
    "def gram_schmidt(vs):\n",
    "    n = len(vs)\n",
    "    res = [0] * n\n",
    "    mus = [([1] * n) for i in range(n)]\n",
    "    res[0] = vs[0]\n",
    "    for i in range(1, n):\n",
    "        v = vs[i]\n",
    "        for j in range(i):\n",
    "            mus[i][j] = inner_product(vs[i], res[j]) / inner_product(res[j], res[j])\n",
    "            v = vecminus(v, scalarMul(res[j], mus[i][j]))\n",
    "        res[i] = v\n",
    "    return res, mus\n",
    "\n",
    "def lll(bs):\n",
    "    n = len(bs)\n",
    "    bstars, mus = gram_schmidt(bs)\n",
    "    norm_bstars = [0] * n\n",
    "    for i in range(n):\n",
    "        norm_bstars[i] = inner_product(bstars[i], bstars[i])\n",
    "    delta = 3 / 4\n",
    "\n",
    "    k = 1\n",
    "    while k < n:\n",
    "        for j in reversed(range(k)):\n",
    "            mu_kj = mus[k][j]\n",
    "            if abs(mu_kj) > 0.5:\n",
    "                q = round(mu_kj)\n",
    "                bs[k] = vecminus(bs[k], scalarMul(bs[j], q))\n",
    "                # bstars, mus = gram_schmidt(bs)\n",
    "                for l in range(j + 1):\n",
    "                    mus[k][l] = mus[k][l] - q * mus[j][l]\n",
    "\n",
    "        if norm_bstars[k] >= (delta - mus[k][k - 1] ** 2) * norm_bstars[k - 1]:\n",
    "            k += 1\n",
    "        else:\n",
    "            bs[k], bs[k - 1] = bs[k - 1], bs[k]\n",
    "            mup = mus[k][k - 1]\n",
    "            B = norm_bstars[k] + (mup ** 2) * norm_bstars[k - 1]\n",
    "            mus[k][k - 1] = mup * norm_bstars[k - 1] / B\n",
    "            norm_bstars[k] = norm_bstars[k] * norm_bstars[k - 1] / B\n",
    "            norm_bstars[k - 1] = B\n",
    "            for j in range(k - 1):\n",
    "                mus[k - 1][j], mus[k][j] = mus[k][j], mus[k - 1][j]\n",
    "            for j in range(k + 1, n):\n",
    "                t = mus[j][k]\n",
    "                mus[j][k] = mus[j][k - 1] - mup * t\n",
    "                mus[j][k - 1] = t + mus[k][k - 1] * mus[j][k]\n",
    "            k = max(k - 1, 1)\n",
    "    return [list(map(int, b)) for b in bs]\n",
    "\n",
    "# example in wikipedia\n",
    "vs = [[10305608,-597165,45361210,39600006,12036060],\n",
    "      [-71672908,4156981,-315467761,-275401230,-83709146],\n",
    "      [-46304904,2685749,-203811282,-177925680,-54081387],\n",
    "      [-68449642,3969419,-301282167,-263017213,-79944525],\n",
    "      [-46169690,2677840,-203215644,-177405867,-53923216]]\n",
    "\n",
    "#n = random.randrange(10, 200)\n",
    "#vs = [([random.randrange(1, 10000) for i in range(n)]) for j in range(n)]\n",
    "\n",
    "s = time.time()\n",
    "l = lll(vs)\n",
    "t = time.time() - s\n",
    "\n",
    "print(l)\n",
    "#print(\"dim =\", n)\n",
    "print(\"time =\", t, \"[s]\")"
   ]
  },
  {
   "cell_type": "code",
   "execution_count": 39,
   "metadata": {},
   "outputs": [
    {
     "name": "stdout",
     "output_type": "stream",
     "text": [
      "{x1: -3634695817786866058/2840225245681, x2: 17536357498434157921/11360900982724, x3: 7991112936473515457/2840225245681, x4: -25451451193717729021/11360900982724, x5: -20923416865728596879/11360900982724}\n",
      "x1 = -1279720.97\n",
      "x2 = 1543571.02\n",
      "x3 = 2813549.01\n",
      "x4 = -2240266.97\n",
      "x5 = -1841704.01\n"
     ]
    }
   ],
   "source": [
    "import sympy as sp\n",
    "x1=sp.Symbol('x1')\n",
    "x2=sp.Symbol('x2')\n",
    "x3=sp.Symbol('x3')\n",
    "x4=sp.Symbol('x4')\n",
    "x5=sp.Symbol('x5')\n",
    "#l=[[166, -751, 61, -467, 34], [420, -124, 62, 112, -839], [-304, 137, 488, 94, 516], [-30, 404, -492, 269, 399], [-402, 148, 426, -575, -670]]\n",
    "#行向量X=[x1,x2,x3,x4,x5]，X*l=e=(388120266,-22516188,1708295783,1491331246,453299858),解方程组，使用上面得到的l\n",
    "Xl=sp.solve([x1*166+x2*420+x3*(-304)+x4*(-30)+x5*(-402)-388120266,\n",
    "             x1*(-751)+x2*(-124)+x3*137+x4*404+x5*148-(-22516188),\n",
    "             x1*61+x2*62+x3*488+x4*(-492)+x5*426-1708295783,\n",
    "             x1*(-467)+x2*112+x3*94+x4*269+x5*(-575)-1491331246,\n",
    "             x1*34+x2*(-839)+x3*516+x4*399+x5*(-670)-453299858],[x1,x2,x3,x4,x5])\n",
    "print(Xl)\n",
    "#转化为两位小数输出\n",
    "for item in Xl:\n",
    "    print(item,'=',round(Xl[item],2))"
   ]
  },
  {
   "cell_type": "code",
   "execution_count": 42,
   "metadata": {},
   "outputs": [
    {
     "name": "stdout",
     "output_type": "stream",
     "text": [
      "[-1279721, 1543571, 2813549, -2240267, -1841704]\n",
      "[388120256 -22516180 1708295793 1491331242 453299848]\n"
     ]
    }
   ],
   "source": [
    "#通过四舍五入将xl转化为整数\n",
    "xl=[round(Xl[x1]),round(Xl[x2]),round(Xl[x3]),round(Xl[x4]),round(Xl[x5])]\n",
    "print(xl)\n",
    "#矩阵相乘：xl*l\n",
    "print(np.dot(xl,l))"
   ]
  }
 ],
 "metadata": {
  "kernelspec": {
   "display_name": "base",
   "language": "python",
   "name": "python3"
  },
  "language_info": {
   "codemirror_mode": {
    "name": "ipython",
    "version": 3
   },
   "file_extension": ".py",
   "mimetype": "text/x-python",
   "name": "python",
   "nbconvert_exporter": "python",
   "pygments_lexer": "ipython3",
   "version": "3.11.5"
  }
 },
 "nbformat": 4,
 "nbformat_minor": 2
}
