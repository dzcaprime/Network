{
 "cells": [
  {
   "cell_type": "code",
   "execution_count": 4,
   "metadata": {},
   "outputs": [],
   "source": [
    "import math\n",
    "import numpy as np\n",
    "import random"
   ]
  },
  {
   "cell_type": "markdown",
   "metadata": {},
   "source": [
    "计算阶数和原根"
   ]
  },
  {
   "cell_type": "code",
   "execution_count": 5,
   "metadata": {},
   "outputs": [],
   "source": [
    "def getOrder(n,g):\n",
    "    for i in range(n):\n",
    "        if(math.pow(g,i)%n==1 and i!=0):\n",
    "            return i\n",
    "    return -1"
   ]
  },
  {
   "cell_type": "code",
   "execution_count": 19,
   "metadata": {},
   "outputs": [],
   "source": [
    "def getRoots(n,g):\n",
    "    result=[]\n",
    "    i=1\n",
    "    while(i<n):\n",
    "        for j in range(n):\n",
    "            if(math.pow(i,j)%n==1 and 0<j<(n-1)):\n",
    "                i=i+1\n",
    "                break\n",
    "            else:\n",
    "                if(j==(n-1)):\n",
    "                    result.append(i)\n",
    "                    i=i+1\n",
    "    return result"
   ]
  },
  {
   "cell_type": "code",
   "execution_count": 20,
   "metadata": {},
   "outputs": [
    {
     "name": "stdout",
     "output_type": "stream",
     "text": [
      "16\n",
      "[3, 5, 6, 7, 10, 11, 12, 14]\n"
     ]
    }
   ],
   "source": [
    "print(getOrder(17,3))\n",
    "print(getRoots(17,3))"
   ]
  },
  {
   "cell_type": "code",
   "execution_count": 27,
   "metadata": {},
   "outputs": [
    {
     "name": "stdout",
     "output_type": "stream",
     "text": [
      "6\n",
      "6\n"
     ]
    }
   ],
   "source": [
    "for i in range(28):\n",
    "    if(math.pow(i,13)%35==6):\n",
    "        print(i)\n",
    "        break\n",
    "print(6**13%35)"
   ]
  },
  {
   "cell_type": "code",
   "execution_count": 30,
   "metadata": {},
   "outputs": [
    {
     "name": "stdout",
     "output_type": "stream",
     "text": [
      "[2, 3, 5, 8, 10, 12, 13, 15, 17, 20, 22]\n"
     ]
    }
   ],
   "source": [
    "#find all the primitive roots of 25\n",
    "i=1\n",
    "result=[]\n",
    "while(i<25):\n",
    "    for j in range(25):\n",
    "        if(math.pow(i,j)%25==1 and 0<j<(20)):\n",
    "            i=i+1\n",
    "            break\n",
    "        else:\n",
    "            if(j==(20)):\n",
    "                result.append(i)\n",
    "                i=i+1\n",
    "print(result)"
   ]
  },
  {
   "cell_type": "code",
   "execution_count": 33,
   "metadata": {},
   "outputs": [
    {
     "name": "stdout",
     "output_type": "stream",
     "text": [
      "5040\n",
      "371\n",
      "0\n"
     ]
    }
   ],
   "source": [
    "#caculate 7!\n",
    "print(math.factorial(7))\n",
    "print((3*105+4*140+4*84)%420)\n",
    "print(371%7)"
   ]
  },
  {
   "cell_type": "code",
   "execution_count": 23,
   "metadata": {},
   "outputs": [
    {
     "name": "stdout",
     "output_type": "stream",
     "text": [
      "1\n",
      "4\n",
      "0\n",
      "3\n",
      "2\n"
     ]
    }
   ],
   "source": [
    "def fx(x):\n",
    "    return (3*(x**3)+5*x+2)%7\n",
    "\n",
    "print(fx(2))\n",
    "print(fx(4))\n",
    "print(fx(3))\n",
    "print(fx(5))\n",
    "print(fx(7))"
   ]
  },
  {
   "cell_type": "code",
   "execution_count": 27,
   "metadata": {},
   "outputs": [
    {
     "name": "stdout",
     "output_type": "stream",
     "text": [
      "1\n",
      "139\n",
      "140\n",
      "359\n",
      "360\n",
      "498\n",
      "6\n",
      "0.9879759519038076\n"
     ]
    }
   ],
   "source": [
    "h=1\n",
    "count=0\n",
    "while(h<499):\n",
    "    if(h**6%499==1):\n",
    "        print(h)\n",
    "        count=count+1\n",
    "    h=h+1\n",
    "print(count)\n",
    "print(1-6/499)"
   ]
  }
 ],
 "metadata": {
  "kernelspec": {
   "display_name": "base",
   "language": "python",
   "name": "python3"
  },
  "language_info": {
   "codemirror_mode": {
    "name": "ipython",
    "version": 3
   },
   "file_extension": ".py",
   "mimetype": "text/x-python",
   "name": "python",
   "nbconvert_exporter": "python",
   "pygments_lexer": "ipython3",
   "version": "3.11.4"
  }
 },
 "nbformat": 4,
 "nbformat_minor": 2
}
