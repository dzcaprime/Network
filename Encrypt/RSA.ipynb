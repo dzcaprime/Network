{
 "cells": [
  {
   "cell_type": "code",
   "execution_count": 1,
   "metadata": {},
   "outputs": [],
   "source": [
    "import numpy as np\n",
    "import math"
   ]
  },
  {
   "cell_type": "code",
   "execution_count": 2,
   "metadata": {},
   "outputs": [
    {
     "name": "stdout",
     "output_type": "stream",
     "text": [
      "2755\n"
     ]
    }
   ],
   "source": [
    "C=25**13%5005\n",
    "print(C)"
   ]
  },
  {
   "cell_type": "markdown",
   "metadata": {},
   "source": [
    "辗转相除法求最大公因子"
   ]
  },
  {
   "cell_type": "code",
   "execution_count": 3,
   "metadata": {},
   "outputs": [],
   "source": [
    "def getMaxFactor(x,y):\n",
    "    if x<y:\n",
    "        x,y=y,x\n",
    "    while y!=0:\n",
    "        r=x%y\n",
    "        x=y\n",
    "        y=r\n",
    "    return x"
   ]
  },
  {
   "cell_type": "code",
   "execution_count": 4,
   "metadata": {},
   "outputs": [
    {
     "name": "stdout",
     "output_type": "stream",
     "text": [
      "3823\n"
     ]
    }
   ],
   "source": [
    "print(getMaxFactor(879290,13927189))"
   ]
  },
  {
   "cell_type": "markdown",
   "metadata": {},
   "source": [
    "Pallord p-1分解算法"
   ]
  },
  {
   "cell_type": "code",
   "execution_count": 15,
   "metadata": {},
   "outputs": [],
   "source": [
    "def Pallord(N):\n",
    "    a=2\n",
    "    j=1\n",
    "    exp=1\n",
    "    while(j<N):\n",
    "        a=2\n",
    "        exp=j*exp\n",
    "        a=a**(exp)%N\n",
    "        d=getMaxFactor(a-1,N)\n",
    "        print(j,exp,a-1,d)\n",
    "        if(d!=1 and d!=N):\n",
    "            return d\n",
    "        j=j+1\n",
    "    return -1"
   ]
  },
  {
   "cell_type": "code",
   "execution_count": 17,
   "metadata": {},
   "outputs": [
    {
     "name": "stdout",
     "output_type": "stream",
     "text": [
      "1 1 1 1\n",
      "2 2 3 1\n",
      "3 6 63 1\n",
      "4 24 411599 1\n",
      "5 120 556584 1\n",
      "6 720 788750 631\n",
      "631\n",
      "1621.0\n"
     ]
    }
   ],
   "source": [
    "print(Pallord(1022851))\n",
    "print(1022851/631)"
   ]
  },
  {
   "cell_type": "markdown",
   "metadata": {},
   "source": [
    "平方根分解算法\n",
    "$N^2+j^2=k^2$，则有$N=(j+k)(j-k)$或者$gcd(j+k,N)$是N的一个因子，可以完成分解"
   ]
  },
  {
   "cell_type": "code",
   "execution_count": 24,
   "metadata": {},
   "outputs": [],
   "source": [
    "def sqFactor(N):\n",
    "    j=1\n",
    "    while(j<N):\n",
    "        res=N**2+j**2\n",
    "        print(j,res,math.sqrt(res))\n",
    "        if(math.sqrt(res)%1==0):\n",
    "            print(j,res,math.sqrt(res))\n",
    "            return j\n",
    "        j=j+1\n",
    "    return -1"
   ]
  },
  {
   "cell_type": "code",
   "execution_count": null,
   "metadata": {},
   "outputs": [],
   "source": [
    "print(sqFactor(34387))"
   ]
  },
  {
   "cell_type": "code",
   "execution_count": 27,
   "metadata": {},
   "outputs": [
    {
     "name": "stdout",
     "output_type": "stream",
     "text": [
      "251\n",
      "137\n",
      "137.0\n"
     ]
    }
   ],
   "source": [
    "print(getMaxFactor(22116+40885,34387))\n",
    "print(getMaxFactor(-22116+40885,34387))\n",
    "print(34387/251)"
   ]
  },
  {
   "cell_type": "markdown",
   "metadata": {},
   "source": [
    "RSA算法的共模攻击，已知$(e_A,N),(d_A,N),(e_B,N)$，计算得出$(d_B,N)$"
   ]
  },
  {
   "cell_type": "code",
   "execution_count": 66,
   "metadata": {},
   "outputs": [],
   "source": [
    "def CMAttack(ea,da,N):\n",
    "    k0=ea*da-1\n",
    "    k1=k0/2\n",
    "    print(k1)\n",
    "    while(k1%2==0):\n",
    "        #t=a**k1%N\n",
    "        a=2\n",
    "        for i in range(1,int(k1)):\n",
    "            a=a*2%N\n",
    "        t=a\n",
    "        print(\"k1=\",k1,\"t=\",t)\n",
    "        if(t!=1 and t!=N-1):\n",
    "            print(\"find k1=\",k1,\"t=\",t)\n",
    "            print(getMaxFactor(t-1,N))\n",
    "            return\n",
    "        k1=k1/2"
   ]
  },
  {
   "cell_type": "code",
   "execution_count": 69,
   "metadata": {},
   "outputs": [
    {
     "name": "stdout",
     "output_type": "stream",
     "text": [
      "4029480.0\n",
      "k1= 4029480.0 t= 1\n",
      "k1= 2014740.0 t= 1\n",
      "k1= 1007370.0 t= 189122\n",
      "find k1= 1007370.0 t= 189122\n",
      "379\n",
      "521.0\n",
      "196560\n"
     ]
    }
   ],
   "source": [
    "CMAttack(67,120283,197459)\n",
    "print(197459/379)\n",
    "#n=pq,379*521=197459\n",
    "print((379-1)*(521-1))"
   ]
  },
  {
   "cell_type": "code",
   "execution_count": null,
   "metadata": {},
   "outputs": [],
   "source": [
    "print(sqFactor(3599))\n"
   ]
  },
  {
   "cell_type": "code",
   "execution_count": 84,
   "metadata": {},
   "outputs": [
    {
     "name": "stdout",
     "output_type": "stream",
     "text": [
      "61\n",
      "59.0\n"
     ]
    }
   ],
   "source": [
    "print(getMaxFactor(3601+120,3599))\n",
    "print(3599/61)"
   ]
  },
  {
   "cell_type": "code",
   "execution_count": 105,
   "metadata": {},
   "outputs": [
    {
     "name": "stdout",
     "output_type": "stream",
     "text": [
      "21811\n",
      "2\n"
     ]
    }
   ],
   "source": [
    "print(2**(23*1)%(241*233))\n",
    "print(21811**19367%(233*241))"
   ]
  },
  {
   "cell_type": "code",
   "execution_count": 118,
   "metadata": {},
   "outputs": [
    {
     "name": "stdout",
     "output_type": "stream",
     "text": [
      "2\n",
      "2\n"
     ]
    }
   ],
   "source": [
    "print(121**167%241)\n",
    "print((2*241*204+2*233*30)%(241*233))"
   ]
  },
  {
   "cell_type": "markdown",
   "metadata": {},
   "source": [
    "Diffle-Hellman密钥交换和ElGamal椭圆曲线加密算法\n",
    "\n",
    "密钥交换：\n",
    "- AB选择共同的基数$\\lambda$，确认各自的私钥$x_a,x_b$\n",
    "- AB交换$X_A=\\lambda^{x_a},X_B=\\lambda^{x_b}$\n",
    "- 最终密钥为$\\lambda^{x_ax_b}$"
   ]
  },
  {
   "cell_type": "code",
   "execution_count": 130,
   "metadata": {},
   "outputs": [
    {
     "name": "stdout",
     "output_type": "stream",
     "text": [
      "115\n"
     ]
    }
   ],
   "source": [
    "print(9*100%157)"
   ]
  },
  {
   "cell_type": "code",
   "execution_count": 123,
   "metadata": {},
   "outputs": [],
   "source": [
    "#known a,q,Y, find X\n",
    "#Y=a^X mod q\n",
    "#X=log_a(Y) mod q\n",
    "def findX(a,q,Y):\n",
    "    i=1\n",
    "    while(i<q):\n",
    "        if(a**i%q==Y):\n",
    "            return i\n",
    "        i=i+1\n",
    "    return -1"
   ]
  },
  {
   "cell_type": "code",
   "execution_count": 124,
   "metadata": {},
   "outputs": [
    {
     "name": "stdout",
     "output_type": "stream",
     "text": [
      "3\n"
     ]
    }
   ],
   "source": [
    "print(findX(5,23,10))"
   ]
  },
  {
   "cell_type": "code",
   "execution_count": null,
   "metadata": {},
   "outputs": [],
   "source": [
    "#prove 5 is the primitive root of 23\n",
    "for i in range(1,23):\n",
    "    print(i,5**i%23)"
   ]
  },
  {
   "cell_type": "code",
   "execution_count": 129,
   "metadata": {},
   "outputs": [
    {
     "name": "stdout",
     "output_type": "stream",
     "text": [
      "2\n"
     ]
    }
   ],
   "source": [
    "print(findX(5,157,25))"
   ]
  },
  {
   "cell_type": "markdown",
   "metadata": {},
   "source": [
    "ECC椭圆曲线加密解密算法\n",
    "已知两个点P和Q，则新的点可以计算出来：\n",
    "$$x_R=s^2-x_P-x_Q\\\\\n",
    "y_R=s*(x_P-x_R)-y_P$$\n",
    "其中$y_0=y_P-s*x_P$\n",
    "1. PQ是同一点：\n",
    "   $$s=\\frac{3x_P^2+a}{2y_P}$$\n",
    "2. PQ是不同点：\n",
    "   $$s=\\frac{y_Q-y_P}{x_Q-x_P}$$"
   ]
  },
  {
   "cell_type": "code",
   "execution_count": 153,
   "metadata": {},
   "outputs": [],
   "source": [
    "def multiplicative_inverse(x, p):\n",
    "    \"\"\"\n",
    "    计算x在模p运算下的乘法逆元\n",
    "    参数：\n",
    "    x: 要计算乘法逆元的数\n",
    "    p: 模数\n",
    "\n",
    "    返回值：\n",
    "    x在模p运算下的乘法逆元,如果不存在乘法逆元则返回None\n",
    "    \"\"\"\n",
    "    def extended_gcd(a, b):\n",
    "        if b == 0:\n",
    "            return a, 1, 0\n",
    "        else:\n",
    "            d, x, y = extended_gcd(b, a % b)\n",
    "            return d, y, x - (a // b) * y\n",
    "\n",
    "    d, inv, _ = extended_gcd(x, p)\n",
    "    if d == 1:\n",
    "        return inv % p\n",
    "    else:\n",
    "        return None"
   ]
  },
  {
   "cell_type": "code",
   "execution_count": 216,
   "metadata": {},
   "outputs": [],
   "source": [
    "def ECC(xp,yp,xq,yq,a,p):\n",
    "    if(xq==0 and yq==0):\n",
    "        return xp,yp\n",
    "    if(xp==xq and yp==yq):\n",
    "        k=(3*xp*xp+a)*(multiplicative_inverse(2*yp,p))%p\n",
    "    else:\n",
    "        if(xq!=xp):\n",
    "            k=(yq-yp)/(xq-xp)*(xq-xp)*multiplicative_inverse(xq-xp,p)%p\n",
    "        else:\n",
    "            return 0,0\n",
    "    xr=(k*k-xp-xq)%p\n",
    "    y0=yp-k*xp%p\n",
    "    yr=(k*(xp-xr)-yp)%p\n",
    "    return xr,yr"
   ]
  },
  {
   "cell_type": "code",
   "execution_count": 189,
   "metadata": {},
   "outputs": [
    {
     "name": "stdout",
     "output_type": "stream",
     "text": [
      "(0, 0)\n"
     ]
    }
   ],
   "source": [
    "print(ECC(1,2,1,5,2,7))"
   ]
  },
  {
   "cell_type": "code",
   "execution_count": 151,
   "metadata": {},
   "outputs": [
    {
     "name": "stdout",
     "output_type": "stream",
     "text": [
      "1.0\n",
      "2.0\n",
      "3.605551275463989\n",
      "5.830951894845301\n",
      "8.54400374531753\n",
      "11.661903789690601\n",
      "15.132745950421556\n"
     ]
    }
   ],
   "source": [
    "for i in range(7):\n",
    "    print(math.sqrt(i**3+2*i+1))"
   ]
  },
  {
   "cell_type": "code",
   "execution_count": 180,
   "metadata": {},
   "outputs": [],
   "source": [
    "def ECCnG(n,x,y,a,p):\n",
    "    x1,y1=x,y\n",
    "    if(n==1):\n",
    "        return x,y\n",
    "    else:\n",
    "        while(n>1):\n",
    "            n=n-1\n",
    "            x1,y1=ECC(x1,y1,x,y,a,p)\n",
    "            print(x1,y1)\n",
    "        return x1,y1"
   ]
  },
  {
   "cell_type": "code",
   "execution_count": 240,
   "metadata": {},
   "outputs": [
    {
     "name": "stdout",
     "output_type": "stream",
     "text": [
      "0 1\n",
      "0.0 6.0\n",
      "1.0 5.0\n",
      "0 0\n",
      "3.0 1.0\n",
      "5.0 0.0\n",
      "3.0 6.0\n",
      "0.0 0.0\n",
      "3.0 1.0\n",
      "5.0 0.0\n",
      "3.0 6.0\n",
      "0.0 0.0\n",
      "3.0 1.0\n",
      "5.0 0.0\n",
      "(5.0, 0.0)\n",
      "(10.0, 7.0)\n"
     ]
    }
   ],
   "source": [
    "\n",
    "print(ECCnG(15,1,2,2,7))\n",
    "print(ECC(10,4,6,7,1,11))"
   ]
  },
  {
   "cell_type": "code",
   "execution_count": 185,
   "metadata": {},
   "outputs": [
    {
     "name": "stdout",
     "output_type": "stream",
     "text": [
      "(1.0, 8.0)\n"
     ]
    }
   ],
   "source": [
    "print(ECC(10,7,4,8,1,11))"
   ]
  }
 ],
 "metadata": {
  "kernelspec": {
   "display_name": "base",
   "language": "python",
   "name": "python3"
  },
  "language_info": {
   "codemirror_mode": {
    "name": "ipython",
    "version": 3
   },
   "file_extension": ".py",
   "mimetype": "text/x-python",
   "name": "python",
   "nbconvert_exporter": "python",
   "pygments_lexer": "ipython3",
   "version": "3.11.4"
  }
 },
 "nbformat": 4,
 "nbformat_minor": 2
}
