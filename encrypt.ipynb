{
 "cells": [
  {
   "cell_type": "code",
   "execution_count": 30,
   "metadata": {},
   "outputs": [],
   "source": [
    "import numpy as np\n",
    "import math\n",
    "import random"
   ]
  },
  {
   "cell_type": "markdown",
   "metadata": {},
   "source": [
    "生成伪随机序列，考虑线性同余方式：$X_{n+1}=(aX_n)\\mod m$"
   ]
  },
  {
   "cell_type": "code",
   "execution_count": 66,
   "metadata": {},
   "outputs": [
    {
     "name": "stdout",
     "output_type": "stream",
     "text": [
      "[3.0, 9.0, 27.0, 19.0, 26.0, 16.0, 17.0, 20.0, 29.0, 25.0, 13.0, 8.0, 24.0, 10.0, 30.0, 28.0, 22.0, 4.0, 12.0, 5.0, 15.0, 14.0, 11.0, 2.0, 6.0, 18.0, 23.0, 7.0, 21.0, 1.0, 3.0]\n",
      "30\n"
     ]
    }
   ],
   "source": [
    "X0=1\n",
    "a=3\n",
    "a_scale=1\n",
    "m=31\n",
    "a=math.pow(a,a_scale)\n",
    "result=[]\n",
    "for i in range(m):\n",
    "    X1=(a*X0)%m\n",
    "    result.append(X1)\n",
    "    if((result[i]==result[0])and(i!=0)):\n",
    "        len=i\n",
    "        break\n",
    "    X0=X1\n",
    "print(result)\n",
    "print(len)"
   ]
  },
  {
   "cell_type": "markdown",
   "metadata": {},
   "source": [
    "考虑穷举计算出最优a和x0"
   ]
  },
  {
   "cell_type": "code",
   "execution_count": null,
   "metadata": {},
   "outputs": [],
   "source": [
    "m=16\n",
    "a=1\n",
    "x0=1\n",
    "while(a<m):\n",
    "    for X0 in range(m):\n",
    "        result.clear()\n",
    "        flag=1\n",
    "        x0=X0\n",
    "        for i in range(m):\n",
    "            x1=a*x0%m\n",
    "            result.append(x1)\n",
    "            if((result[i]==result[0])and(i!=0)and flag):\n",
    "                len=i\n",
    "                flag=0\n",
    "            x0=x1\n",
    "        print(result)\n",
    "        print(a,X0,len)\n",
    "        X0=X0+1\n",
    "    a=a+1"
   ]
  },
  {
   "cell_type": "code",
   "execution_count": null,
   "metadata": {},
   "outputs": [],
   "source": [
    "#计算a^4%16\n",
    "for i in range(16):\n",
    "    i=math.pow(i,4)\n",
    "    print(i%16)"
   ]
  },
  {
   "cell_type": "markdown",
   "metadata": {},
   "source": [
    "随机性取值，考虑一下两个线性同余方程\n",
    "\n",
    "$X_{n+1}=(6X_n)\\mod 13$\n",
    "\n",
    "$X_{n+1}=(7X_n)\\mod 13$"
   ]
  },
  {
   "cell_type": "code",
   "execution_count": 87,
   "metadata": {},
   "outputs": [],
   "source": [
    "def LCG(m,a,x0):\n",
    "    result=[]\n",
    "    for i in range(m):\n",
    "        x1=a*x0%m\n",
    "        result.append(x1)\n",
    "        if((result[i]==result[0])and(i!=0)):\n",
    "            len=i\n",
    "            break\n",
    "        x0=x1\n",
    "    return result,len"
   ]
  },
  {
   "cell_type": "code",
   "execution_count": 89,
   "metadata": {},
   "outputs": [
    {
     "name": "stdout",
     "output_type": "stream",
     "text": [
      "([6, 10, 8, 9, 2, 12, 7, 3, 5, 4, 11, 1, 6], 12)\n",
      "([7, 10, 5, 9, 11, 12, 6, 3, 8, 4, 2, 1, 7], 12)\n"
     ]
    }
   ],
   "source": [
    "res6=LCG(13,6,1)\n",
    "res7=LCG(13,7,1)\n",
    "print(res6)\n",
    "print(res7)"
   ]
  },
  {
   "cell_type": "markdown",
   "metadata": {},
   "source": [
    "两个序列周期都是12，考虑进一步评估序列的随机性"
   ]
  },
  {
   "cell_type": "code",
   "execution_count": 98,
   "metadata": {},
   "outputs": [],
   "source": [
    "def toBinary(res):\n",
    "    result,len=res\n",
    "    res=[]\n",
    "    for i in range(len):\n",
    "        res.append(bin(result[i])[2:].zfill(4))\n",
    "    resStr=''.join(res)\n",
    "    return resStr"
   ]
  },
  {
   "cell_type": "code",
   "execution_count": 102,
   "metadata": {},
   "outputs": [
    {
     "name": "stdout",
     "output_type": "stream",
     "text": [
      "a=6: 011010101000100100101100011100110101010010110001\n",
      "a=7: 011110100101100110111100011000111000010000100001\n"
     ]
    }
   ],
   "source": [
    "resB6=toBinary(res6)\n",
    "print(\"a=6:\",resB6)\n",
    "resB7=toBinary(res7)\n",
    "print(\"a=7:\",resB7)"
   ]
  },
  {
   "cell_type": "markdown",
   "metadata": {},
   "source": [
    "计算两个序列中0和1出现的频率"
   ]
  },
  {
   "cell_type": "code",
   "execution_count": 105,
   "metadata": {},
   "outputs": [],
   "source": [
    "def calFrequency(str):\n",
    "    times0=0\n",
    "    times1=0\n",
    "    len=str.__len__()\n",
    "    for i in range(len):\n",
    "        if(str[i]=='0'):\n",
    "            times0=times0+1\n",
    "        else:\n",
    "            times1=times1+1\n",
    "    return times0/len,times1/len"
   ]
  },
  {
   "cell_type": "code",
   "execution_count": 107,
   "metadata": {},
   "outputs": [
    {
     "name": "stdout",
     "output_type": "stream",
     "text": [
      "a=6:frequency of 0: 0.5416666666666666 frequency of 1: 0.4583333333333333\n",
      "a=7:frequency of 0: 0.5416666666666666 frequency of 1: 0.4583333333333333\n"
     ]
    }
   ],
   "source": [
    "fre6=calFrequency(resB6)\n",
    "print(\"a=6:frequency of 0:\",fre6[0],\"frequency of 1:\",fre6[1])\n",
    "fre7=calFrequency(resB7)\n",
    "print(\"a=7:frequency of 0:\",fre7[0],\"frequency of 1:\",fre7[1])"
   ]
  },
  {
   "cell_type": "markdown",
   "metadata": {},
   "source": [
    "游程测试，统计1游程和0游程的数量"
   ]
  },
  {
   "cell_type": "code",
   "execution_count": 119,
   "metadata": {},
   "outputs": [],
   "source": [
    "def count_runs(binary_sequence):\n",
    "    zero_runs = 0\n",
    "    one_runs = 0\n",
    "    current_run = None\n",
    "\n",
    "    for bit in binary_sequence:\n",
    "        if bit == '0':\n",
    "            if current_run == '0':\n",
    "                continue  # 继续当前游程\n",
    "            else:\n",
    "                current_run = '0'\n",
    "                zero_runs += 1\n",
    "        elif bit == '1':\n",
    "            if current_run == '1':\n",
    "                continue  # 继续当前游程\n",
    "            else:\n",
    "                current_run = '1'\n",
    "                one_runs += 1\n",
    "\n",
    "    return zero_runs, one_runs"
   ]
  },
  {
   "cell_type": "code",
   "execution_count": 121,
   "metadata": {},
   "outputs": [
    {
     "name": "stdout",
     "output_type": "stream",
     "text": [
      "a=6:sequence of 0: 16 sequence of 1: 16\n",
      "a=7:sequence of 0: 11 sequence of 1: 11\n",
      "expected value of sequence of 0: 25.5 expected value of sequence of 1: 25.5\n"
     ]
    }
   ],
   "source": [
    "seq6=count_runs(resB6)\n",
    "print(\"a=6:sequence of 0:\",seq6[0],\"sequence of 1:\",seq6[1])\n",
    "seq7=count_runs(resB7)\n",
    "print(\"a=7:sequence of 0:\",seq7[0],\"sequence of 1:\",seq7[1])\n",
    "print(\"expected value of sequence of 0:\",(resB6.__len__()+3)/2,\"expected value of sequence of 1:\",(resB6.__len__()+3)/2)"
   ]
  }
 ],
 "metadata": {
  "kernelspec": {
   "display_name": "base",
   "language": "python",
   "name": "python3"
  },
  "language_info": {
   "codemirror_mode": {
    "name": "ipython",
    "version": 3
   },
   "file_extension": ".py",
   "mimetype": "text/x-python",
   "name": "python",
   "nbconvert_exporter": "python",
   "pygments_lexer": "ipython3",
   "version": "3.11.4"
  }
 },
 "nbformat": 4,
 "nbformat_minor": 2
}
